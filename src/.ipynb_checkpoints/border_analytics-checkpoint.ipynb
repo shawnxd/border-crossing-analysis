{
 "cells": [
  {
   "cell_type": "code",
   "execution_count": 1,
   "metadata": {},
   "outputs": [],
   "source": [
    "# import for packages\n",
    "import pandas as pd"
   ]
  },
  {
   "cell_type": "code",
   "execution_count": 2,
   "metadata": {},
   "outputs": [],
   "source": [
    "# load dataset from input\n",
    "file_path = '../insight_testsuite/tests/test_1/input/Border_Crossing_Entry_Data.csv'\n",
    "# select columns we need for analysis\n",
    "dataset = pd.read_csv(file_path, header=0, usecols = ['Border', 'Date', 'Measure', 'Value'], index_col = False)"
   ]
  },
  {
   "cell_type": "code",
   "execution_count": 3,
   "metadata": {},
   "outputs": [
    {
     "data": {
      "text/html": [
       "<div>\n",
       "<style scoped>\n",
       "    .dataframe tbody tr th:only-of-type {\n",
       "        vertical-align: middle;\n",
       "    }\n",
       "\n",
       "    .dataframe tbody tr th {\n",
       "        vertical-align: top;\n",
       "    }\n",
       "\n",
       "    .dataframe thead th {\n",
       "        text-align: right;\n",
       "    }\n",
       "</style>\n",
       "<table border=\"1\" class=\"dataframe\">\n",
       "  <thead>\n",
       "    <tr style=\"text-align: right;\">\n",
       "      <th></th>\n",
       "      <th>Date</th>\n",
       "      <th>Measure</th>\n",
       "      <th>Border</th>\n",
       "      <th>Value</th>\n",
       "    </tr>\n",
       "  </thead>\n",
       "  <tbody>\n",
       "    <tr>\n",
       "      <th>3</th>\n",
       "      <td>03/01/2019 12:00:00 AM</td>\n",
       "      <td>Pedestrians</td>\n",
       "      <td>US-Mexico Border</td>\n",
       "      <td>346158</td>\n",
       "    </tr>\n",
       "    <tr>\n",
       "      <th>5</th>\n",
       "      <td>03/01/2019 12:00:00 AM</td>\n",
       "      <td>Truck Containers Full</td>\n",
       "      <td>US-Canada Border</td>\n",
       "      <td>6483</td>\n",
       "    </tr>\n",
       "    <tr>\n",
       "      <th>4</th>\n",
       "      <td>03/01/2019 12:00:00 AM</td>\n",
       "      <td>Trains</td>\n",
       "      <td>US-Canada Border</td>\n",
       "      <td>19</td>\n",
       "    </tr>\n",
       "    <tr>\n",
       "      <th>1</th>\n",
       "      <td>02/01/2019 12:00:00 AM</td>\n",
       "      <td>Pedestrians</td>\n",
       "      <td>US-Mexico Border</td>\n",
       "      <td>172163</td>\n",
       "    </tr>\n",
       "    <tr>\n",
       "      <th>2</th>\n",
       "      <td>02/01/2019 12:00:00 AM</td>\n",
       "      <td>Truck Containers Empty</td>\n",
       "      <td>US-Canada Border</td>\n",
       "      <td>1319</td>\n",
       "    </tr>\n",
       "    <tr>\n",
       "      <th>0</th>\n",
       "      <td>01/01/2019 12:00:00 AM</td>\n",
       "      <td>Pedestrians</td>\n",
       "      <td>US-Mexico Border</td>\n",
       "      <td>56810</td>\n",
       "    </tr>\n",
       "  </tbody>\n",
       "</table>\n",
       "</div>"
      ],
      "text/plain": [
       "                     Date                 Measure            Border   Value\n",
       "3  03/01/2019 12:00:00 AM             Pedestrians  US-Mexico Border  346158\n",
       "5  03/01/2019 12:00:00 AM   Truck Containers Full  US-Canada Border    6483\n",
       "4  03/01/2019 12:00:00 AM                  Trains  US-Canada Border      19\n",
       "1  02/01/2019 12:00:00 AM             Pedestrians  US-Mexico Border  172163\n",
       "2  02/01/2019 12:00:00 AM  Truck Containers Empty  US-Canada Border    1319\n",
       "0  01/01/2019 12:00:00 AM             Pedestrians  US-Mexico Border   56810"
      ]
     },
     "execution_count": 3,
     "metadata": {},
     "output_type": "execute_result"
    }
   ],
   "source": [
    "# group by ['Date', 'Measure', 'Border'] and calculate the sum of values\n",
    "dataset = dataset.groupby(['Date', 'Measure', 'Border'])['Value'].sum()\n",
    "dataset = dataset.reset_index(level=['Date', 'Measure', 'Border'])\n",
    "# sort by ['Date', 'Value', 'Measure', 'Border'] in decending order\n",
    "dataset.sort_values(by = ['Date', 'Value', 'Measure', 'Border'], ascending = [False, False, False, False], inplace=True)\n",
    "dataset"
   ]
  },
  {
   "cell_type": "code",
   "execution_count": 249,
   "metadata": {},
   "outputs": [
    {
     "name": "stdout",
     "output_type": "stream",
     "text": [
      "[346158, 172163, 56810]\n",
      "next\n",
      "[19]\n",
      "next\n",
      "[1319]\n",
      "next\n",
      "[6483]\n",
      "next\n"
     ]
    }
   ],
   "source": [
    "# add column 'Average' to calculate <monthly average values> of different borders & meature\n",
    "average_lst = []\n",
    "for i in dataset.groupby(['Measure', 'Border']):\n",
    "    current_filter = list((i[1]['Value']))\n",
    "    length = len(current_filter)\n",
    "    for j in range(len(current_filter)):\n",
    "        if j == 0:\n",
    "            average_lst.append(0)\n",
    "        else:\n",
    "            "
   ]
  },
  {
   "cell_type": "code",
   "execution_count": null,
   "metadata": {},
   "outputs": [],
   "source": []
  }
 ],
 "metadata": {
  "kernelspec": {
   "display_name": "Python 3",
   "language": "python",
   "name": "python3"
  },
  "language_info": {
   "codemirror_mode": {
    "name": "ipython",
    "version": 3
   },
   "file_extension": ".py",
   "mimetype": "text/x-python",
   "name": "python",
   "nbconvert_exporter": "python",
   "pygments_lexer": "ipython3",
   "version": "3.6.5"
  }
 },
 "nbformat": 4,
 "nbformat_minor": 2
}
